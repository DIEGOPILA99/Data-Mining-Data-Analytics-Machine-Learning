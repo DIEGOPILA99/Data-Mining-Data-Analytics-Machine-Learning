{
 "cells": [
  {
   "cell_type": "code",
   "execution_count": 1,
   "metadata": {},
   "outputs": [],
   "source": [
    "import csv\n",
    "import os\n",
    "import time"
   ]
  },
  {
   "cell_type": "code",
   "execution_count": 2,
   "metadata": {},
   "outputs": [],
   "source": [
    "#IMPORT LIBRARY'S TO MANIPULATION"
   ]
  },
  {
   "cell_type": "code",
   "execution_count": 3,
   "metadata": {},
   "outputs": [],
   "source": [
    "import numpy as np\n",
    "import pandas as pd"
   ]
  },
  {
   "cell_type": "code",
   "execution_count": 4,
   "metadata": {},
   "outputs": [],
   "source": [
    "#"
   ]
  },
  {
   "cell_type": "code",
   "execution_count": 5,
   "metadata": {},
   "outputs": [],
   "source": [
    "os.chdir('C:/Users/diego/OneDrive/Escritorio/Proyectos para Git/Elecciones 2021//')\n",
    "#os.chdir('../Elecciones 2021//')"
   ]
  },
  {
   "cell_type": "code",
   "execution_count": 6,
   "metadata": {},
   "outputs": [],
   "source": [
    "#ACCESS DATAFRAME"
   ]
  },
  {
   "cell_type": "code",
   "execution_count": 7,
   "metadata": {},
   "outputs": [],
   "source": [
    "data=pd.read_csv('Padrón_Ausentes_Cordenadas.csv',encoding='ISO-8859-1')"
   ]
  },
  {
   "cell_type": "code",
   "execution_count": 8,
   "metadata": {},
   "outputs": [
    {
     "data": {
      "text/html": [
       "<div>\n",
       "<style scoped>\n",
       "    .dataframe tbody tr th:only-of-type {\n",
       "        vertical-align: middle;\n",
       "    }\n",
       "\n",
       "    .dataframe tbody tr th {\n",
       "        vertical-align: top;\n",
       "    }\n",
       "\n",
       "    .dataframe thead th {\n",
       "        text-align: right;\n",
       "    }\n",
       "</style>\n",
       "<table border=\"1\" class=\"dataframe\">\n",
       "  <thead>\n",
       "    <tr style=\"text-align: right;\">\n",
       "      <th></th>\n",
       "      <th>Apellidos</th>\n",
       "      <th>Nombres</th>\n",
       "      <th>Año</th>\n",
       "      <th>Edad</th>\n",
       "      <th>Dni</th>\n",
       "      <th>Lat</th>\n",
       "      <th>Long</th>\n",
       "    </tr>\n",
       "  </thead>\n",
       "  <tbody>\n",
       "    <tr>\n",
       "      <th>0</th>\n",
       "      <td>ACEVEDO SANCHEZ</td>\n",
       "      <td>ANTONIO EDUARDO</td>\n",
       "      <td>2002</td>\n",
       "      <td>19</td>\n",
       "      <td>44225159</td>\n",
       "      <td>-36.004620</td>\n",
       "      <td>-58.140367</td>\n",
       "    </tr>\n",
       "    <tr>\n",
       "      <th>1</th>\n",
       "      <td>ACOSTA</td>\n",
       "      <td>CARLOS ALBERTO</td>\n",
       "      <td>1964</td>\n",
       "      <td>57</td>\n",
       "      <td>16806749</td>\n",
       "      <td>-36.004359</td>\n",
       "      <td>-58.144452</td>\n",
       "    </tr>\n",
       "    <tr>\n",
       "      <th>2</th>\n",
       "      <td>ALARCON</td>\n",
       "      <td>SEBASTIAN</td>\n",
       "      <td>1989</td>\n",
       "      <td>32</td>\n",
       "      <td>34384709</td>\n",
       "      <td>-34.842844</td>\n",
       "      <td>-58.449667</td>\n",
       "    </tr>\n",
       "    <tr>\n",
       "      <th>3</th>\n",
       "      <td>ALEGRE</td>\n",
       "      <td>ROCIO ROSANA</td>\n",
       "      <td>1989</td>\n",
       "      <td>32</td>\n",
       "      <td>35435718</td>\n",
       "      <td>-36.322049</td>\n",
       "      <td>-58.565482</td>\n",
       "    </tr>\n",
       "    <tr>\n",
       "      <th>4</th>\n",
       "      <td>ALFONSIN</td>\n",
       "      <td>MARIA MILAGROS</td>\n",
       "      <td>1998</td>\n",
       "      <td>23</td>\n",
       "      <td>46607728</td>\n",
       "      <td>-36.004593</td>\n",
       "      <td>-58.140594</td>\n",
       "    </tr>\n",
       "  </tbody>\n",
       "</table>\n",
       "</div>"
      ],
      "text/plain": [
       "         Apellidos          Nombres   Año  Edad       Dni        Lat  \\\n",
       "0  ACEVEDO SANCHEZ  ANTONIO EDUARDO  2002    19  44225159 -36.004620   \n",
       "1           ACOSTA   CARLOS ALBERTO  1964    57  16806749 -36.004359   \n",
       "2          ALARCON        SEBASTIAN  1989    32  34384709 -34.842844   \n",
       "3           ALEGRE     ROCIO ROSANA  1989    32  35435718 -36.322049   \n",
       "4         ALFONSIN   MARIA MILAGROS  1998    23  46607728 -36.004593   \n",
       "\n",
       "        Long  \n",
       "0 -58.140367  \n",
       "1 -58.144452  \n",
       "2 -58.449667  \n",
       "3 -58.565482  \n",
       "4 -58.140594  "
      ]
     },
     "execution_count": 8,
     "metadata": {},
     "output_type": "execute_result"
    }
   ],
   "source": [
    "data.head()"
   ]
  },
  {
   "cell_type": "code",
   "execution_count": null,
   "metadata": {},
   "outputs": [],
   "source": [
    "mean_lat=data[\"Lat\"].mean()\n",
    "mean_lon=data[\"Long\"].mean()"
   ]
  },
  {
   "cell_type": "code",
   "execution_count": null,
   "metadata": {},
   "outputs": [],
   "source": [
    "print(mean_lat)\n",
    "print(mean_lon)"
   ]
  },
  {
   "cell_type": "code",
   "execution_count": null,
   "metadata": {},
   "outputs": [],
   "source": [
    "std_lat=data[\"Lat\"].std()\n",
    "std_lon=data[\"Long\"].std()"
   ]
  },
  {
   "cell_type": "code",
   "execution_count": null,
   "metadata": {},
   "outputs": [],
   "source": [
    "data[\"Lat\"]=(data[\"Lat\"] - mean_lat)/(std_lat) \n",
    "data[\"Long\"]=(data[\"Long\"] -mean_lon ) /(std_lon)"
   ]
  },
  {
   "cell_type": "code",
   "execution_count": null,
   "metadata": {},
   "outputs": [],
   "source": [
    "data.head()"
   ]
  },
  {
   "cell_type": "code",
   "execution_count": 9,
   "metadata": {},
   "outputs": [],
   "source": [
    "#IMPORT LIBRARY'S TO K-MEANS "
   ]
  },
  {
   "cell_type": "code",
   "execution_count": 10,
   "metadata": {},
   "outputs": [],
   "source": [
    "from sklearn import metrics\n",
    "from sklearn.metrics import pairwise_distances\n",
    "from sklearn.cluster import KMeans\n"
   ]
  },
  {
   "cell_type": "code",
   "execution_count": 11,
   "metadata": {},
   "outputs": [],
   "source": [
    "#DATA PRERARETION TO K-MEANS"
   ]
  },
  {
   "cell_type": "code",
   "execution_count": 12,
   "metadata": {},
   "outputs": [],
   "source": [
    "x=data['Lat'].values\n",
    "y=data['Long'].values\n",
    "X=np.array(list(zip(x,y)))"
   ]
  },
  {
   "cell_type": "code",
   "execution_count": 13,
   "metadata": {},
   "outputs": [],
   "source": [
    "n_sil=[]\n",
    "n=0\n",
    "for n in range(1,5):\n",
    "    kmeans= KMeans(n_clusters=2*n, random_state=1).fit(X)\n",
    "    labels =kmeans.predict(X)\n",
    "    aux=metrics.silhouette_score(X,labels, metric='euclidean')\n",
    "    n_sil.append([n,aux])"
   ]
  },
  {
   "cell_type": "code",
   "execution_count": null,
   "metadata": {},
   "outputs": [],
   "source": []
  },
  {
   "cell_type": "code",
   "execution_count": 14,
   "metadata": {},
   "outputs": [
    {
     "name": "stdout",
     "output_type": "stream",
     "text": [
      "[1, 0.9367123952246794]\n",
      "[2, 0.6410889183526686]\n",
      "[3, 0.6620544240855152]\n",
      "[4, 0.5384615384615384]\n"
     ]
    }
   ],
   "source": [
    "for n in range(0,len(n_sil)):\n",
    "    print(n_sil[n])"
   ]
  },
  {
   "cell_type": "code",
   "execution_count": 15,
   "metadata": {},
   "outputs": [],
   "source": [
    "max_sil=-999\n",
    "max_sil2=-999\n",
    "max_clus=-999\n",
    "max_clus2=-999\n",
    "for n in range(0,len(n_sil)):\n",
    "    if( (max_sil<n_sil[n][1]) ):\n",
    "            max_sil2=max_sil\n",
    "            max_clus2=max_clus \n",
    "            max_sil=n_sil[n][1]\n",
    "            max_clus=2*(n+1)\n",
    "    else:\n",
    "        if( (max_sil2<n_sil[n][1]) ):\n",
    "            max_sil2=n_sil[n][1]\n",
    "            max_clus2=2*(n+1)        "
   ]
  },
  {
   "cell_type": "code",
   "execution_count": 16,
   "metadata": {},
   "outputs": [
    {
     "name": "stdout",
     "output_type": "stream",
     "text": [
      "el cluster con n=2 posee el mejor ind de sillhoute con s=0.9367124\n",
      "el cluster con n=6 posee el segundo mejor ind de sillhoute con s=0.66205442\n"
     ]
    }
   ],
   "source": [
    "print('el cluster con n={} posee el mejor ind de sillhoute con s={}'.format(max_clus,round(max_sil,8)))\n",
    "print('el cluster con n={} posee el segundo mejor ind de sillhoute con s={}'.format(max_clus2,round(max_sil2,8)))"
   ]
  },
  {
   "cell_type": "code",
   "execution_count": 17,
   "metadata": {},
   "outputs": [],
   "source": [
    "#Since we have at least 12 people in our team, \n",
    "#we prefer to lose performance in geographical \n",
    "#density and divide the work"
   ]
  },
  {
   "cell_type": "code",
   "execution_count": 18,
   "metadata": {},
   "outputs": [],
   "source": [
    "#We apply K-means wit N_Clusters=max_clus2=6"
   ]
  },
  {
   "cell_type": "code",
   "execution_count": 19,
   "metadata": {},
   "outputs": [],
   "source": [
    "import matplotlib.pyplot as plt"
   ]
  },
  {
   "cell_type": "code",
   "execution_count": 20,
   "metadata": {},
   "outputs": [
    {
     "name": "stdout",
     "output_type": "stream",
     "text": [
      "6\n"
     ]
    }
   ],
   "source": [
    "print(max_clus2)"
   ]
  },
  {
   "cell_type": "code",
   "execution_count": 29,
   "metadata": {},
   "outputs": [],
   "source": [
    "#kmeans=KMeans(n_clusters=max_clus2)\n",
    "kmeans=KMeans(n_clusters=max_clus2)\n",
    "kmeans=kmeans.fit(X)\n",
    "labels = kmeans.predict(X)\n",
    "centroids=kmeans.cluster_centers_\n",
    "colors=['m.','r.','c.','y.','b.','.']\n"
   ]
  },
  {
   "cell_type": "code",
   "execution_count": 30,
   "metadata": {},
   "outputs": [
    {
     "data": {
      "text/plain": [
       "(13, 2)"
      ]
     },
     "execution_count": 30,
     "metadata": {},
     "output_type": "execute_result"
    }
   ],
   "source": [
    "X.shape"
   ]
  },
  {
   "cell_type": "code",
   "execution_count": 33,
   "metadata": {},
   "outputs": [
    {
     "name": "stdout",
     "output_type": "stream",
     "text": [
      "lat y log: [-36.0046195 -58.1403669]  grupo:  4\n",
      "lat y log: [-36.004359  -58.1444516]  grupo:  0\n",
      "lat y log: [-34.842844  -58.4496666]  grupo:  1\n",
      "lat y log: [-36.3220488 -58.5654817]  grupo:  2\n",
      "lat y log: [-36.0045933 -58.1405939]  grupo:  4\n",
      "lat y log: [-34.842844  -58.4496666]  grupo:  1\n",
      "lat y log: [-36.0015646 -58.1434182]  grupo:  5\n",
      "lat y log: [-35.9997321 -58.1413695]  grupo:  3\n",
      "lat y log: [-35.9995929 -58.1391577]  grupo:  3\n",
      "lat y log: [-34.842844  -58.4496666]  grupo:  1\n",
      "lat y log: [-35.9997321 -58.1413695]  grupo:  3\n",
      "lat y log: [-35.9997321 -58.1413695]  grupo:  3\n",
      "lat y log: [-34.842844  -58.4496666]  grupo:  1\n"
     ]
    },
    {
     "data": {
      "image/png": "[encoded data removed]",
      "text/plain": [
       "<Figure size 432x288 with 1 Axes>"
      ]
     },
     "metadata": {
      "needs_background": "light"
     },
     "output_type": "display_data"
    }
   ],
   "source": [
    "for i in range(len(X)):\n",
    "    print('lat y log:',X[i],' grupo: ',labels[i])\n",
    "    plt.plot(X[i][0],X[i][1],colors[labels[i]],markersize=50)\n",
    "plt.scatter(centroids[:,0],centroids[:,1],marker='x',s=50,linewidth=5,zorder=10)\n",
    "plt.show()"
   ]
  },
  {
   "cell_type": "code",
   "execution_count": null,
   "metadata": {},
   "outputs": [],
   "source": [
    "plt.boxplot()"
   ]
  },
  {
   "cell_type": "code",
   "execution_count": 34,
   "metadata": {},
   "outputs": [
    {
     "name": "stdout",
     "output_type": "stream",
     "text": [
      "KMeans(n_clusters=6)\n"
     ]
    }
   ],
   "source": [
    "print(kmeans)"
   ]
  },
  {
   "cell_type": "code",
   "execution_count": null,
   "metadata": {},
   "outputs": [],
   "source": []
  }
 ],
 "metadata": {
  "kernelspec": {
   "display_name": "Python 3",
   "language": "python",
   "name": "python3"
  },
  "language_info": {
   "codemirror_mode": {
    "name": "ipython",
    "version": 3
   },
   "file_extension": ".py",
   "mimetype": "text/x-python",
   "name": "python",
   "nbconvert_exporter": "python",
   "pygments_lexer": "ipython3",
   "version": "3.8.5"
  }
 },
 "nbformat": 4,
 "nbformat_minor": 4
}
