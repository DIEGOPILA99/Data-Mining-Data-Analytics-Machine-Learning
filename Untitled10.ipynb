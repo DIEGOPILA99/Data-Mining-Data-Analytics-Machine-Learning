{
 "cells": [
  {
   "cell_type": "code",
   "execution_count": null,
   "metadata": {},
   "outputs": [],
   "source": []
  },
  {
   "cell_type": "code",
   "execution_count": null,
   "metadata": {},
   "outputs": [],
   "source": [
    "import numpy as np"
   ]
  },
  {
   "cell_type": "code",
   "execution_count": null,
   "metadata": {},
   "outputs": [],
   "source": [
    " from geopy.point import Point  "
   ]
  },
  {
   "cell_type": "code",
   "execution_count": 2,
   "metadata": {},
   "outputs": [
    {
     "ename": "NameError",
     "evalue": "name 'os' is not defined",
     "output_type": "error",
     "traceback": [
      "\u001b[1;31m---------------------------------------------------------------------------\u001b[0m",
      "\u001b[1;31mNameError\u001b[0m                                 Traceback (most recent call last)",
      "\u001b[1;32m<ipython-input-2-2c0af75bc68b>\u001b[0m in \u001b[0;36m<module>\u001b[1;34m\u001b[0m\n\u001b[1;32m----> 1\u001b[1;33m \u001b[0mos\u001b[0m\u001b[1;33m.\u001b[0m\u001b[0mchdir\u001b[0m\u001b[1;33m(\u001b[0m\u001b[1;34m'C:/Users/diego/OneDrive/Escritorio/Campaña//'\u001b[0m\u001b[1;33m)\u001b[0m\u001b[1;33m\u001b[0m\u001b[1;33m\u001b[0m\u001b[0m\n\u001b[0m",
      "\u001b[1;31mNameError\u001b[0m: name 'os' is not defined"
     ]
    }
   ],
   "source": [
    "os.chdir('C:/Users/diego/OneDrive/Escritorio/Campaña//')"
   ]
  },
  {
   "cell_type": "code",
   "execution_count": 1,
   "metadata": {},
   "outputs": [],
   "source": [
    "from geopy.geocoders import Nominatim\n",
    "geolocator = Nominatim(user_agent=\"sample app\")"
   ]
  },
  {
   "cell_type": "code",
   "execution_count": null,
   "metadata": {},
   "outputs": [],
   "source": [
    "#GEOLOCALIZACION INVERSA(COORDENADAS CARTESIANAS A DOM )"
   ]
  },
  {
   "cell_type": "code",
   "execution_count": null,
   "metadata": {},
   "outputs": [],
   "source": [
    "with open('Padrón_Ausentes_Cordenadas.csv') as csv_file:\n",
    "    csv_data = csv.reader(csv_file, delimiter=',', quotechar='\\'')\n",
    "    with open('Padrón de ausentes con direccion.xlsx','w') as csv_aux:\n",
    "        name_csv=['Apellidos','Nombres','Año','Edad','Dni','Domicilio']\n",
    "        writer= csv.DictWriter(csv_aux,fieldnames=name_csv, delimiter=',')   \n",
    "        writer.writeheader()\n",
    "        for row in csv_data: \n",
    "            lat=row[5]\n",
    "            lon=row[6] \n",
    "            #print('{},{}'.format(lat,lon))\n",
    "            aux= ('{},{}'.format(lat,lon))\n",
    "            #p=Point(lat,lon)\n",
    "            print(aux)\n",
    "            loc=geolocator.reverse(Point(aux)) \n",
    "            #loc=geolocator.reverse(f'{lat},{lon}') \n"
   ]
  }
 ],
 "metadata": {
  "kernelspec": {
   "display_name": "Python 3",
   "language": "python",
   "name": "python3"
  },
  "language_info": {
   "codemirror_mode": {
    "name": "ipython",
    "version": 3
   },
   "file_extension": ".py",
   "mimetype": "text/x-python",
   "name": "python",
   "nbconvert_exporter": "python",
   "pygments_lexer": "ipython3",
   "version": "3.8.5"
  }
 },
 "nbformat": 4,
 "nbformat_minor": 4
}
